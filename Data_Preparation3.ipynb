{
 "cells": [
  {
   "cell_type": "markdown",
   "metadata": {},
   "source": [
    "# Brief"
   ]
  },
  {
   "cell_type": "markdown",
   "metadata": {},
   "source": [
    "- Creating 3 files (train, valid, test) with different families for each file"
   ]
  },
  {
   "cell_type": "code",
   "execution_count": 1,
   "metadata": {},
   "outputs": [],
   "source": [
    "import pandas as pd\n",
    "import numpy as np\n"
   ]
  },
  {
   "cell_type": "code",
   "execution_count": 2,
   "metadata": {},
   "outputs": [],
   "source": [
    "# Getting the list of all families Ids (FID)\n",
    "df_fs = pd.read_pickle(\"./lists/pairs/pickles/Direct/fs-faces.pkl\")\n",
    "df_fs['label'] = 'fs'\n",
    "df_fd = pd.read_pickle(\"./lists/pairs/pickles/Direct/fd-faces.pkl\")\n",
    "df_fd['label'] = 'fd'\n",
    "df_ms = pd.read_pickle(\"./lists/pairs/pickles/Direct/ms-faces.pkl\")\n",
    "df_ms['label'] = 'ms'\n",
    "df_md = pd.read_pickle(\"./lists/pairs/pickles/Direct/md-faces.pkl\")\n",
    "df_md['label'] = 'md'\n",
    "\n",
    "df = pd.concat([df_fs, df_fd, df_ms, df_md])\n",
    "df['FID'] = df['p1'].str[:5]\n"
   ]
  },
  {
   "cell_type": "code",
   "execution_count": 3,
   "metadata": {},
   "outputs": [],
   "source": [
    "# Converting the FID to \"set\"\n",
    "all_set = set(df['FID'].unique().tolist())\n",
    "\n",
    "test_df = pd.read_pickle(\"./test_data.pkl\")\n",
    "test_df['FID'] = test_df['p1'].str[:5]\n",
    "# Get the Test set FIDs\n",
    "test_set = set(test_df['FID'].unique().tolist())\n",
    "\n",
    "train_valid_set = all_set - test_set\n",
    "valid_set = list(train_valid_set)[600:]\n",
    "train_set = list(train_valid_set)[:600]\n",
    "\n",
    "sets = {'train':train_set, 'valid':valid_set, 'test':test_set}"
   ]
  },
  {
   "cell_type": "code",
   "execution_count": 4,
   "metadata": {},
   "outputs": [],
   "source": [
    "path = \"./FIDs-features/\"\n",
    "\n",
    "def process(df,rType):\n",
    "    df['FID'] = df['p1'].str[:5]\n",
    "    df['p1'] = path+df['p1']\n",
    "    df['p2'] = path+df['p2']\n",
    "    df['p1'] = df['p1'].str.replace('.jpg', '.pkl')\n",
    "    df['p2'] = df['p2'].str.replace('.jpg', '.pkl')\n",
    "    \n",
    "    for fs in sets:\n",
    "        \n",
    "        fs_df = df[df['FID'].isin(sets[fs])]\n",
    "\n",
    "        sample1 = fs_df.sample(frac=1).reset_index(drop=True)[['p1','FID']]\n",
    "        sample2 = fs_df.sample(frac=1).reset_index(drop=True)[['p2','FID']]\n",
    "        sample2.columns = ['p2','FID2']\n",
    "        unrelated = pd.concat([sample1,sample2],axis=1)\n",
    "        unrelated = unrelated[unrelated['FID'] != unrelated['FID2']][['p1','p2']]\n",
    "\n",
    "        # Related file\n",
    "        p1 = fs_df['p1'].values.tolist()\n",
    "        p2 = fs_df['p2'].values.tolist()\n",
    "        F = pd.read_pickle(p1[0]).reshape(1,512)\n",
    "        C = pd.read_pickle(p2[0]).reshape(1,512)\n",
    "        related_fs_set = np.append(F,C,axis=1)\n",
    "\n",
    "        for r1, r2 in zip(p1[1:], p2[1:]):\n",
    "            F = pd.read_pickle(r1).reshape(1,512)\n",
    "            C = pd.read_pickle(r2).reshape(1,512)\n",
    "            temp = np.append(F,C,axis=1)\n",
    "            related_fs_set = np.append(related_fs_set, temp, axis=0)\n",
    "        related_df = pd.DataFrame(related_fs_set)\n",
    "        related_df['label'] = rType\n",
    "        related_df['class'] = 1\n",
    "\n",
    "        # UnRelated file\n",
    "        p1 = unrelated['p1'].values.tolist()\n",
    "        p2 = unrelated['p2'].values.tolist()\n",
    "        F = pd.read_pickle(p1[0]).reshape(1,512)\n",
    "        C = pd.read_pickle(p2[0]).reshape(1,512)\n",
    "        unrelated_fs_set = np.append(F,C,axis=1)\n",
    "\n",
    "        for r1, r2 in zip(p1[1:],p2[1:]):\n",
    "            F = pd.read_pickle(r1).reshape(1,512)\n",
    "            C = pd.read_pickle(r2).reshape(1,512)\n",
    "            temp = np.append(F,C,axis=1)\n",
    "            unrelated_fs_set = np.append(unrelated_fs_set, temp, axis=0)\n",
    "        unrelated_df = pd.DataFrame(unrelated_fs_set)\n",
    "        unrelated_df['label'] = rType\n",
    "        unrelated_df['class'] = 0\n",
    "        \n",
    "        mix = pd.concat([related_df, unrelated_df])\n",
    "        mix = mix.sample(frac=1).reset_index(drop=True)\n",
    "        mix.to_pickle(\"{}_{}_1024.pkl\".format(fs,rType))\n"
   ]
  },
  {
   "cell_type": "code",
   "execution_count": null,
   "metadata": {},
   "outputs": [],
   "source": [
    "#process(pd.read_pickle(\"./lists/pairs/pickles/Direct/fs-faces.pkl\"),'fs')\n",
    "#process(pd.read_pickle(\"./lists/pairs/pickles/Direct/fd-faces.pkl\"),'fd')\n",
    "#process(pd.read_pickle(\"./lists/pairs/pickles/Direct/ms-faces.pkl\"),'ms')\n",
    "process(pd.read_pickle(\"./lists/pairs/pickles/Direct/md-faces.pkl\"),'md')\n"
   ]
  },
  {
   "cell_type": "code",
   "execution_count": null,
   "metadata": {},
   "outputs": [],
   "source": []
  }
 ],
 "metadata": {
  "kernelspec": {
   "display_name": "Python 3",
   "language": "python",
   "name": "python3"
  },
  "language_info": {
   "codemirror_mode": {
    "name": "ipython",
    "version": 3
   },
   "file_extension": ".py",
   "mimetype": "text/x-python",
   "name": "python",
   "nbconvert_exporter": "python",
   "pygments_lexer": "ipython3",
   "version": "3.7.6"
  }
 },
 "nbformat": 4,
 "nbformat_minor": 4
}
