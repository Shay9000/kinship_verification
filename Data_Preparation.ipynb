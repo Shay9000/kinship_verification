{
 "cells": [
  {
   "cell_type": "markdown",
   "metadata": {},
   "source": [
    "1. fs - Jalal\n",
    "2. md - Shyma -- DONE https://www.dropbox.com/sh/gltzn82pth8zt9a/AAB28TClaUq6o7NnwIF0ijXsa?dl=0\n",
    "3. fd - abdulelah --DONE https://www.dropbox.com/s/7d55xdq6q1u0g4k/fd.rar?dl=0\n",
    "4. ms - Hussam"
   ]
  },
  {
   "cell_type": "code",
   "execution_count": 1,
   "metadata": {},
   "outputs": [],
   "source": [
    "import pandas as pd\n",
    "import numpy as np\n",
    "import matplotlib.pyplot as plt"
   ]
  },
  {
   "cell_type": "code",
   "execution_count": 5,
   "metadata": {},
   "outputs": [],
   "source": [
    "path = \"./FIDs-features/\"\n",
    "\n",
    "def process(df, rType):\n",
    "    df['FID'] = df['p1'].str[:5]\n",
    "    df['p1'] = path+df['p1']\n",
    "    df['p2'] = path+df['p2']\n",
    "    df['p1'] = df['p1'].str.replace('.jpg', '.pkl')\n",
    "    df['p2'] = df['p2'].str.replace('.jpg', '.pkl')\n",
    "    \n",
    "    sample1 = df.sample(n=df.shape[0], replace=True)[['p1','FID']].reset_index().drop('index',axis=1)\n",
    "    sample2 = df.sample(n=df.shape[0], replace=True)[['p2','FID']].reset_index().drop('index',axis=1)\n",
    "    sample2.columns = ['p2','FID2']\n",
    "    unrelated = pd.concat([sample1,sample2],axis=1)\n",
    "    unrelated = unrelated[unrelated['FID'] != unrelated['FID2']][['p1','p2']]\n",
    "    \n",
    "    ###############################################################\n",
    "    # Related file\n",
    "    p1 = df['p1'].values.tolist()\n",
    "    p2 = df['p2'].values.tolist()\n",
    "    F = pd.read_pickle(p1[0])\n",
    "    C = pd.read_pickle(p2[0])\n",
    "    related_fs_set = ((F + C) / np.power((F - C),2)).reshape(1,512)\n",
    "\n",
    "    for r1, r2 in zip(p1[1:],p2[1:]):\n",
    "        F = pd.read_pickle(r1).reshape(1,512)\n",
    "        C = pd.read_pickle(r2).reshape(1,512)\n",
    "        temp = (F + C) / np.power((F - C),2)\n",
    "        related_fs_set = np.append(related_fs_set, temp, axis=0)\n",
    "        \n",
    "    #related_fs_set / np.sqrt(np.sum(related_fs_set, axis=0))\n",
    "    pd.DataFrame(related_fs_set).to_pickle(\"Related_{}.pkl\".format(rType))\n",
    "        \n",
    "    ###############################################################\n",
    "    # UnRelated file\n",
    "    p1 = unrelated['p1'].values.tolist()\n",
    "    p2 = unrelated['p2'].values.tolist()\n",
    "    F = pd.read_pickle(p1[0])\n",
    "    C = pd.read_pickle(p2[0])\n",
    "    unrelated_fs_set = ((F + C) / np.power((F - C),2)).reshape(1,512)\n",
    "\n",
    "    for r1, r2 in zip(p1[1:],p2[1:]):\n",
    "        F = pd.read_pickle(r1).reshape(1,512)\n",
    "        C = pd.read_pickle(r2).reshape(1,512)\n",
    "        temp = (F + C) / np.power((F - C),2)\n",
    "        unrelated_fs_set = np.append(unrelated_fs_set, temp, axis=0)\n",
    "        \n",
    "    #unrelated_fs_set / np.sqrt(np.sum(unrelated_fs_set, axis=0))\n",
    "    pd.DataFrame(unrelated_fs_set).to_pickle(\"Unrelated_{}.pkl\".format(rType))\n",
    "  \n",
    "# Example\n",
    "df = pd.read_pickle(\"./lists/pairs/pickles/Direct/fs-faces.pkl\")\n",
    "process(df, \"fs\")"
   ]
  },
  {
   "cell_type": "code",
   "execution_count": null,
   "metadata": {},
   "outputs": [],
   "source": []
  }
 ],
 "metadata": {
  "kernelspec": {
   "display_name": "Python 3",
   "language": "python",
   "name": "python3"
  },
  "language_info": {
   "codemirror_mode": {
    "name": "ipython",
    "version": 3
   },
   "file_extension": ".py",
   "mimetype": "text/x-python",
   "name": "python",
   "nbconvert_exporter": "python",
   "pygments_lexer": "ipython3",
   "version": "3.7.4"
  }
 },
 "nbformat": 4,
 "nbformat_minor": 4
}
